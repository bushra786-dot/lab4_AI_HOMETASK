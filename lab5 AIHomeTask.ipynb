{
  "nbformat": 4,
  "nbformat_minor": 0,
  "metadata": {
    "colab": {
      "provenance": [],
      "gpuType": "T4"
    },
    "kernelspec": {
      "name": "python3",
      "display_name": "Python 3"
    },
    "language_info": {
      "name": "python"
    },
    "accelerator": "GPU"
  },
  "cells": [
    {
      "cell_type": "code",
      "execution_count": 1,
      "metadata": {
        "colab": {
          "base_uri": "https://localhost:8080/"
        },
        "id": "Rolykohta3b_",
        "outputId": "63ece94d-4262-4555-be8a-6b88fabb2ba1"
      },
      "outputs": [
        {
          "output_type": "stream",
          "name": "stdout",
          "text": [
            "The predicted outcome for the new entry is: Diabetic\n"
          ]
        }
      ],
      "source": [
        "import numpy as np\n",
        "from sklearn.tree import DecisionTreeClassifier\n",
        "\n",
        "# Step 1: Define the dataset (BloodPressure, SkinThickness, etc.)\n",
        "data = {\n",
        "    'BloodPressure': [72, 66, 64, 66, 40, 74, 50, 0, 70, 96, 92, 74, 80, 60, 72, 0, 84, 74, 30],\n",
        "    'SkinThickness': [35, 29, 0, 23, 35, 0, 32, 0, 45, 0, 0, 0, 0, 23, 19, 0, 47, 0, 38],\n",
        "    'Insulin': [0, 0, 0, 94, 168, 0, 88, 0, 543, 0, 0, 0, 0, 846, 175, 0, 230, 0, 83],\n",
        "    'BMI': [33.6, 26.6, 23.3, 28.1, 43.1, 25.6, 31.0, 35.3, 30.5, 0, 37.6, 38.0, 27.1, 30.1, 25.8, 30.0, 45.8, 29.6, 43.3],\n",
        "    'DiabetesPedigreeFunction': [0.627, 0.351, 0.672, 0.167, 2.288, 0.201, 0.248, 0.134, 0.158, 0.232, 0.191, 0.537, 1.441, 0.398, 0.587, 0.484, 0.551, 0.254, 0.183],\n",
        "    'Age': [50, 31, 32, 21, 33, 30, 26, 29, 53, 54, 30, 34, 57, 59, 51, 32, 31, 31, 33],\n",
        "    'Outcome': [1, 0, 1, 0, 1, 0, 1, 0, 1, 1, 0, 1, 0, 1, 1, 1, 1, 1, 0]\n",
        "}\n",
        "\n",
        "# Step 2: Convert data into numpy arrays\n",
        "X = np.column_stack((\n",
        "    data['BloodPressure'],\n",
        "    data['SkinThickness'],\n",
        "    data['Insulin'],\n",
        "    data['BMI'],\n",
        "    data['DiabetesPedigreeFunction'],\n",
        "    data['Age']\n",
        "))  # Features matrix\n",
        "\n",
        "y = np.array(data['Outcome'])  # Target vector\n",
        "\n",
        "# Step 3: Train the Decision Tree classifier\n",
        "clf = DecisionTreeClassifier(random_state=42)\n",
        "clf.fit(X, y)\n",
        "\n",
        "# Step 4: Example of a new entry (user input) for prediction\n",
        "# Let's say the new entry provided by the user is as follows:\n",
        "new_entry = np.array([[75, 22, 150, 30.5, 0.428, 45]])  # Example input: [BloodPressure, SkinThickness, Insulin, BMI, DiabetesPedigreeFunction, Age]\n",
        "\n",
        "# Step 5: Make the prediction for the new entry\n",
        "predicted_outcome = clf.predict(new_entry)[0]\n",
        "\n",
        "# Step 6: Output the prediction\n",
        "if predicted_outcome == 1:\n",
        "    prediction = \"Diabetic\"\n",
        "else:\n",
        "    prediction = \"Not Diabetic\"\n",
        "\n",
        "print(f\"The predicted outcome for the new entry is: {prediction}\")\n"
      ]
    },
    {
      "cell_type": "code",
      "source": [
        "import numpy as np\n",
        "from sklearn.tree import DecisionTreeClassifier\n",
        "\n",
        "# Step 1: Define the initial dataset (BloodPressure, SkinThickness, etc.)\n",
        "data = {\n",
        "    'BloodPressure': [72, 66, 64, 66, 40, 74, 50, 0, 70, 96, 92, 74, 80, 60, 72, 0, 84, 74, 30],\n",
        "    'SkinThickness': [35, 29, 0, 23, 35, 0, 32, 0, 45, 0, 0, 0, 0, 23, 19, 0, 47, 0, 38],\n",
        "    'Insulin': [0, 0, 0, 94, 168, 0, 88, 0, 543, 0, 0, 0, 0, 846, 175, 0, 230, 0, 83],\n",
        "    'BMI': [33.6, 26.6, 23.3, 28.1, 43.1, 25.6, 31.0, 35.3, 30.5, 0, 37.6, 38.0, 27.1, 30.1, 25.8, 30.0, 45.8, 29.6, 43.3],\n",
        "    'DiabetesPedigreeFunction': [0.627, 0.351, 0.672, 0.167, 2.288, 0.201, 0.248, 0.134, 0.158, 0.232, 0.191, 0.537, 1.441, 0.398, 0.587, 0.484, 0.551, 0.254, 0.183],\n",
        "    'Age': [50, 31, 32, 21, 33, 30, 26, 29, 53, 54, 30, 34, 57, 59, 51, 32, 31, 31, 33],\n",
        "    'Outcome': [1, 0, 1, 0, 1, 0, 1, 0, 1, 1, 0, 1, 0, 1, 1, 1, 1, 1, 0]\n",
        "}\n",
        "\n",
        "# Step 2: Convert data into numpy arrays (features and target)\n",
        "X = np.column_stack((\n",
        "    data['BloodPressure'],\n",
        "    data['SkinThickness'],\n",
        "    data['Insulin'],\n",
        "    data['BMI'],\n",
        "    data['DiabetesPedigreeFunction'],\n",
        "    data['Age']\n",
        "))  # Features matrix\n",
        "\n",
        "y = np.array(data['Outcome'])  # Target vector\n",
        "\n",
        "# Step 3: Train the Decision Tree classifier\n",
        "clf = DecisionTreeClassifier(random_state=42)\n",
        "clf.fit(X, y)\n",
        "\n",
        "# Step 4: Allow user to input a new entry (user entry for prediction and updating)\n",
        "# Example: user provides a new entry with values [BloodPressure, SkinThickness, Insulin, BMI, DiabetesPedigreeFunction, Age]\n",
        "new_entry = np.array([[75, 22, 150, 30.5, 0.428, 45]])  # Example new entry\n",
        "\n",
        "# Step 5: Make the prediction for the new entry using the trained model\n",
        "predicted_outcome = clf.predict(new_entry)[0]\n",
        "\n",
        "# Step 6: Output the prediction for the new entry\n",
        "if predicted_outcome == 1:\n",
        "    prediction = \"Diabetic\"\n",
        "else:\n",
        "    prediction = \"Not Diabetic\"\n",
        "\n",
        "print(f\"The predicted outcome for the new entry is: {prediction}\")\n",
        "\n",
        "# Step 7: Update the dataset with the new entry and retrain the model\n",
        "# Append the new entry to the existing dataset\n",
        "X_updated = np.vstack([X, new_entry])  # Add the new entry to the feature matrix\n",
        "y_updated = np.append(y, predicted_outcome)  # Append the predicted outcome to the target vector\n",
        "\n",
        "# Retrain the Decision Tree with the updated dataset\n",
        "clf.fit(X_updated, y_updated)\n",
        "\n",
        "# Step 8: Verify that the model has been retrained by predicting again\n",
        "retrained_prediction = clf.predict(new_entry)[0]\n",
        "if retrained_prediction == 1:\n",
        "    retrained_prediction_text = \"Diabetic\"\n",
        "else:\n",
        "    retrained_prediction_text = \"Not Diabetic\"\n",
        "\n",
        "print(f\"After retraining, the prediction for the new entry is: {retrained_prediction_text}\")\n"
      ],
      "metadata": {
        "colab": {
          "base_uri": "https://localhost:8080/"
        },
        "id": "vZo1kGprbLZJ",
        "outputId": "c510d5aa-b68c-4dbd-f32a-24f2662fa7ee"
      },
      "execution_count": 2,
      "outputs": [
        {
          "output_type": "stream",
          "name": "stdout",
          "text": [
            "The predicted outcome for the new entry is: Diabetic\n",
            "After retraining, the prediction for the new entry is: Diabetic\n"
          ]
        }
      ]
    },
    {
      "cell_type": "code",
      "source": [
        "import numpy as np\n",
        "from sklearn.tree import DecisionTreeClassifier\n",
        "from sklearn.model_selection import train_test_split\n",
        "\n",
        "# Step 1: Define the dataset using the given dictionary\n",
        "data = {\n",
        "    'BloodPressure': [72, 66, 64, 66, 40, 74, 50, 0, 70, 96, 92, 74, 80, 60, 72, 0, 84, 74, 30],\n",
        "    'SkinThickness': [35, 29, 0, 23, 35, 0, 32, 0, 45, 0, 0, 0, 0, 23, 19, 0, 47, 0, 38],\n",
        "    'Insulin': [0, 0, 0, 94, 168, 0, 88, 0, 543, 0, 0, 0, 0, 846, 175, 0, 230, 0, 83],\n",
        "    'BMI': [33.6, 26.6, 23.3, 28.1, 43.1, 25.6, 31.0, 35.3, 30.5, 0, 37.6, 38.0, 27.1, 30.1, 25.8, 30.0, 45.8, 29.6, 43.3],\n",
        "    'DiabetesPedigreeFunction': [0.627, 0.351, 0.672, 0.167, 2.288, 0.201, 0.248, 0.134, 0.158, 0.232, 0.191, 0.537, 1.441, 0.398, 0.587, 0.484, 0.551, 0.254, 0.183],\n",
        "    'Age': [50, 31, 32, 21, 33, 30, 26, 29, 53, 54, 30, 34, 57, 59, 51, 32, 31, 31, 33],\n",
        "    'Outcome': [1, 0, 1, 0, 1, 0, 1, 0, 1, 1, 0, 1, 0, 1, 1, 1, 1, 1, 0]\n",
        "}\n",
        "\n",
        "# Step 2: Convert data into numpy arrays for features and target\n",
        "X = np.column_stack((\n",
        "    data['BloodPressure'],\n",
        "    data['SkinThickness'],\n",
        "    data['Insulin'],\n",
        "    data['BMI'],\n",
        "    data['DiabetesPedigreeFunction'],\n",
        "    data['Age']\n",
        "))  # Features matrix (shape: n_samples x n_features)\n",
        "\n",
        "y = np.array(data['Outcome'])  # Target vector (shape: n_samples,)\n",
        "\n",
        "# Step 3: Split the data into training and testing sets (80% train, 20% test)\n",
        "X_train, X_test, y_train, y_test = train_test_split(X, y, test_size=0.2, random_state=42)\n",
        "\n",
        "# Step 4: Train the Decision Tree classifier\n",
        "clf = DecisionTreeClassifier(random_state=42)\n",
        "clf.fit(X_train, y_train)\n",
        "\n",
        "# Step 5: Make predictions on the test set\n",
        "y_pred = clf.predict(X_test)\n",
        "\n",
        "# Step 6: Output the predicted outcomes for the test set\n",
        "print(\"Predictions on the test set:\", y_pred)\n",
        "\n",
        "# Step 7: Allow user to input a new entry for prediction\n",
        "# Example of user input: [BloodPressure, SkinThickness, Insulin, BMI, DiabetesPedigreeFunction, Age]\n",
        "new_entry = np.array([[75, 22, 150, 30.5, 0.428, 45]])  # Replace with user input\n",
        "\n",
        "# Predict the outcome for the new entry\n",
        "new_entry_pred = clf.predict(new_entry)[0]\n",
        "\n",
        "# Output the prediction for the new entry\n",
        "if new_entry_pred == 1:\n",
        "    print(\"The new entry is predicted to be Diabetic.\")\n",
        "else:\n",
        "    print(\"The new entry is predicted to be Not Diabetic.\")\n",
        "\n",
        "# Step 8: (Optional) Show model accuracy on the test set\n",
        "accuracy = clf.score(X_test, y_test)\n",
        "print(f\"Accuracy on the test set: {accuracy * 100:.2f}%\")\n"
      ],
      "metadata": {
        "colab": {
          "base_uri": "https://localhost:8080/"
        },
        "id": "n5rgTcWXbidT",
        "outputId": "a8757c69-581e-4cb1-d219-37f9a9b82dbf"
      },
      "execution_count": 3,
      "outputs": [
        {
          "output_type": "stream",
          "name": "stdout",
          "text": [
            "Predictions on the test set: [1 0 1 1]\n",
            "The new entry is predicted to be Diabetic.\n",
            "Accuracy on the test set: 75.00%\n"
          ]
        }
      ]
    }
  ]
}